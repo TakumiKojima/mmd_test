{
 "cells": [
  {
   "cell_type": "code",
   "execution_count": null,
   "metadata": {},
   "outputs": [],
   "source": [
    "import socket\n",
    "server = (\"127.0.0.1\", 39392)\n",
    "tcp_client = socket.socket(socket.AF_INET, socket.SOCK_STREAM)\n",
    "tcp_client.connect(server)\n",
    "tcp_client.send(b\"MESSAGE|aaa|bbb\")\n",
    "tcp_client.close()"
   ]
  },
  {
   "cell_type": "code",
   "execution_count": null,
   "metadata": {},
   "outputs": [],
   "source": [
    "# Example 2: capture messages from MMDAgent-EX running as server\n",
    "import socket\n",
    "server = (\"127.0.0.1\", 39392)\n",
    "tcp_client = socket.socket(socket.AF_INET, socket.SOCK_STREAM)\n",
    "tcp_client.connect(server)\n",
    "while True:\n",
    "    try:\n",
    "        rcvmsg = tcp_client.recv(4096)\n",
    "        print(\"[*] received: {}\".format(rcvmsg))\n",
    "    except Exception as e:\n",
    "        print(e)\n",
    "tcp_client.close()"
   ]
  },
  {
   "cell_type": "code",
   "execution_count": null,
   "metadata": {},
   "outputs": [],
   "source": [
    "# Example 3: make server to show pressed key as text in the scene\n",
    "import socket\n",
    "import re\n",
    "\n",
    "# return message to be issued at connection time\n",
    "\n",
    "\n",
    "def connectedMessage():\n",
    "    # issue \"TEXTAREA_ADD\" message to make text field to display.\n",
    "    return \"TEXTAREA_ADD|num|6,2|2,0.3,0,1|0,0,0,0.7|1,1,1,1|0,6,-4\"\n",
    "\n",
    "# process log per line and return message to be sent to MMDAgent-EX if needed\n",
    "\n",
    "\n",
    "def process(msg):\n",
    "    # if found \"KEY|...\" message, issue \"TEXTAREA_SET\" message to display it.\n",
    "    matched = re.match('.*KEY\\|(.*)$', msg)\n",
    "    if (matched):\n",
    "        return \"TEXTAREA_SET|num|{}\".format(matched.group(1))\n",
    "\n",
    "\n",
    "# main\n",
    "server = (\"127.0.0.1\", 39392)\n",
    "tcp_client = socket.socket(socket.AF_INET, socket.SOCK_STREAM)\n",
    "tcp_client.connect(server)\n",
    "tcp_client.send(connectedMessage().encode())\n",
    "while True:\n",
    "    try:\n",
    "        rcvmsg = tcp_client.recv(4096)\n",
    "        print(\"[*] received: {}\".format(rcvmsg))\n",
    "        ret = process(rcvmsg.decode().rstrip())\n",
    "        if (ret):\n",
    "            tcp_client.send(ret.encode())\n",
    "    except Exception as e:\n",
    "        print(e)\n",
    "tcp_client.close()"
   ]
  }
 ],
 "metadata": {
  "kernelspec": {
   "display_name": "Python 3",
   "language": "python",
   "name": "python3"
  },
  "language_info": {
   "codemirror_mode": {
    "name": "ipython",
    "version": 3
   },
   "file_extension": ".py",
   "mimetype": "text/x-python",
   "name": "python",
   "nbconvert_exporter": "python",
   "pygments_lexer": "ipython3",
   "version": "3.6.8"
  },
  "toc": {
   "base_numbering": 1,
   "nav_menu": {},
   "number_sections": true,
   "sideBar": true,
   "skip_h1_title": false,
   "title_cell": "Table of Contents",
   "title_sidebar": "Contents",
   "toc_cell": false,
   "toc_position": {},
   "toc_section_display": true,
   "toc_window_display": false
  }
 },
 "nbformat": 4,
 "nbformat_minor": 2
}
