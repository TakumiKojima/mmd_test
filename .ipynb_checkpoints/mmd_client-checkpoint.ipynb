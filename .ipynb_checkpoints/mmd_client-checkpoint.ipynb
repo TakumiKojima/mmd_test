{
 "cells": [
  {
   "cell_type": "code",
   "execution_count": null,
   "metadata": {},
   "outputs": [],
   "source": [
    "# Example 2: wait connection from MMDAgent-EX running as client, capture messages from it\n",
    "import socket\n",
    "server = (\"127.0.0.1\", 39392)\n",
    "listen_num = 5\n",
    "tcp_server = socket.socket(socket.AF_INET, socket.SOCK_STREAM)\n",
    "tcp_server.bind(server)\n",
    "tcp_server.listen(listen_num)\n",
    "while True:\n",
    "    client, address = tcp_server.accept()\n",
    "    print(\"[*] connected: {}\".format(address))\n",
    "    while True:\n",
    "        try:\n",
    "            rcvmsg = client.recv(4096)\n",
    "            print(\"[*] received: {}\".format(rcvmsg))\n",
    "        except Exception as e:\n",
    "            print(e)\n",
    "    client.close()"
   ]
  },
  {
   "cell_type": "code",
   "execution_count": null,
   "metadata": {},
   "outputs": [],
   "source": [
    "# Example 1: wait connection from MMDAgent-EX running as client, post message and disconnect\n",
    "import socket\n",
    "server = (\"127.0.0.1\", 39392)\n",
    "listen_num = 5\n",
    "tcp_server = socket.socket(socket.AF_INET, socket.SOCK_STREAM)\n",
    "tcp_server.bind(server)\n",
    "tcp_server.listen(listen_num)\n",
    "while True:\n",
    "    client, address = tcp_server.accept()\n",
    "    print(\"[*] connected: {}\".format(address))\n",
    "    client.send(b\"MESSAGE|aaa|bbb\")\n",
    "    client.close()"
   ]
  }
 ],
 "metadata": {
  "kernelspec": {
   "display_name": "Python 3",
   "language": "python",
   "name": "python3"
  },
  "language_info": {
   "codemirror_mode": {
    "name": "ipython",
    "version": 3
   },
   "file_extension": ".py",
   "mimetype": "text/x-python",
   "name": "python",
   "nbconvert_exporter": "python",
   "pygments_lexer": "ipython3",
   "version": "3.6.8"
  },
  "toc": {
   "base_numbering": 1,
   "nav_menu": {},
   "number_sections": true,
   "sideBar": true,
   "skip_h1_title": false,
   "title_cell": "Table of Contents",
   "title_sidebar": "Contents",
   "toc_cell": false,
   "toc_position": {},
   "toc_section_display": true,
   "toc_window_display": false
  }
 },
 "nbformat": 4,
 "nbformat_minor": 2
}
